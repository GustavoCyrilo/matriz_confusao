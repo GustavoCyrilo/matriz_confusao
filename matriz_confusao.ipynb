{
  "nbformat": 4,
  "nbformat_minor": 0,
  "metadata": {
    "colab": {
      "provenance": []
    },
    "kernelspec": {
      "name": "python3",
      "display_name": "Python 3"
    },
    "language_info": {
      "name": "python"
    }
  },
  "cells": [
    {
      "cell_type": "code",
      "source": [
        "\n",
        "from sklearn.metrics import confusion_matrix, accuracy_score, classification_report, precision_score, f1_score\n",
        "from tensorflow.keras import datasets, layers, models\n",
        "from sklearn.metrics import recall_score\n",
        "from sklearn import metrics\n",
        "from tensorflow.python.ops.numpy_ops import np_config\n",
        "import matplotlib.pyplot as plt\n",
        "import tensorflow as tf\n",
        "import numpy as np\n",
        "import seaborn as sns\n",
        "import pandas as pd\n",
        "import keras\n",
        "import io"
      ],
      "metadata": {
        "id": "pr5ARyl9ZdTj"
      },
      "execution_count": 1,
      "outputs": []
    },
    {
      "cell_type": "code",
      "source": [
        "tf.__version__"
      ],
      "metadata": {
        "colab": {
          "base_uri": "https://localhost:8080/",
          "height": 35
        },
        "id": "bzfPt-1ZZfkn",
        "outputId": "d2d00da1-6b8b-485b-b253-1f435dcbc66f"
      },
      "execution_count": 2,
      "outputs": [
        {
          "output_type": "execute_result",
          "data": {
            "text/plain": [
              "'2.17.1'"
            ],
            "application/vnd.google.colaboratory.intrinsic+json": {
              "type": "string"
            }
          },
          "metadata": {},
          "execution_count": 2
        }
      ]
    },
    {
      "cell_type": "code",
      "source": [
        "%load_ext tensorboard"
      ],
      "metadata": {
        "id": "uTepoaAlZgaQ"
      },
      "execution_count": 3,
      "outputs": []
    },
    {
      "cell_type": "code",
      "source": [
        "logdir='log'"
      ],
      "metadata": {
        "id": "mpzna6EBZhQr"
      },
      "execution_count": 4,
      "outputs": []
    },
    {
      "cell_type": "code",
      "source": [
        "\n",
        "\n",
        "(train_images, train_labels), (test_images, test_labels) = datasets.mnist.load_data()\n",
        "\n",
        "train_images = train_images.reshape((60000, 28, 28, 1))\n",
        "test_images = test_images.reshape((10000, 28, 28, 1))\n",
        "\n",
        "train_images, test_images = train_images / 255.0, test_images / 255.0\n",
        "\n",
        "classes=[0,1,2,3,4,5,6,7,8,9]\n",
        "\n"
      ],
      "metadata": {
        "colab": {
          "base_uri": "https://localhost:8080/"
        },
        "id": "-uIVQOuIZinZ",
        "outputId": "dcbca93d-f0ed-44b2-eb04-47e78468f668"
      },
      "execution_count": 5,
      "outputs": [
        {
          "output_type": "stream",
          "name": "stdout",
          "text": [
            "Downloading data from https://storage.googleapis.com/tensorflow/tf-keras-datasets/mnist.npz\n",
            "\u001b[1m11490434/11490434\u001b[0m \u001b[32m━━━━━━━━━━━━━━━━━━━━\u001b[0m\u001b[37m\u001b[0m \u001b[1m2s\u001b[0m 0us/step\n"
          ]
        }
      ]
    },
    {
      "cell_type": "code",
      "source": [
        "\n",
        "\n",
        "model = models.Sequential()\n",
        "model.add(layers.Conv2D(32, (3, 3), activation='relu', input_shape=(28, 28, 1)))\n",
        "model.add(layers.MaxPooling2D((2, 2)))\n",
        "model.add(layers.Conv2D(64, (3, 3), activation='relu'))\n",
        "model.add(layers.MaxPooling2D((2, 2)))\n",
        "model.add(layers.Conv2D(64, (3, 3), activation='relu'))\n",
        "\n",
        "model.add(layers.Flatten())\n",
        "model.add(layers.Dense(64, activation='relu'))\n",
        "model.add(layers.Dense(10, activation='softmax'))\n",
        "\n",
        "\n"
      ],
      "metadata": {
        "colab": {
          "base_uri": "https://localhost:8080/"
        },
        "id": "2iPDEsajZkDE",
        "outputId": "0a8f379f-2729-4d4a-ad4c-d994e2360667"
      },
      "execution_count": 6,
      "outputs": [
        {
          "output_type": "stream",
          "name": "stderr",
          "text": [
            "/usr/local/lib/python3.11/dist-packages/keras/src/layers/convolutional/base_conv.py:107: UserWarning: Do not pass an `input_shape`/`input_dim` argument to a layer. When using Sequential models, prefer using an `Input(shape)` object as the first layer in the model instead.\n",
            "  super().__init__(activity_regularizer=activity_regularizer, **kwargs)\n"
          ]
        }
      ]
    },
    {
      "cell_type": "code",
      "source": [
        "\n",
        "\n",
        "tensorboard_callback = tf.keras.callbacks.TensorBoard(logdir, histogram_freq=1)\n",
        "\n"
      ],
      "metadata": {
        "id": "O4tNIVnIZkRZ"
      },
      "execution_count": 7,
      "outputs": []
    },
    {
      "cell_type": "code",
      "source": [
        "\n",
        "\n",
        "model.compile(optimizer='adam',\n",
        "              loss='sparse_categorical_crossentropy',\n",
        "              metrics=['accuracy'])\n",
        "\n",
        "history = model.fit(x=train_images,\n",
        "            y=train_labels,\n",
        "            epochs=20,\n",
        "\n",
        "validation_data\n",
        "=(test_images, test_labels))\n",
        "\n"
      ],
      "metadata": {
        "colab": {
          "base_uri": "https://localhost:8080/"
        },
        "id": "wr8DZkKsZlaU",
        "outputId": "28ba9de8-33b0-41a7-a36a-acd1cfee0e86"
      },
      "execution_count": null,
      "outputs": [
        {
          "output_type": "stream",
          "name": "stdout",
          "text": [
            "Epoch 1/20\n",
            "\u001b[1m1875/1875\u001b[0m \u001b[32m━━━━━━━━━━━━━━━━━━━━\u001b[0m\u001b[37m\u001b[0m \u001b[1m82s\u001b[0m 43ms/step - accuracy: 0.8938 - loss: 0.3469 - val_accuracy: 0.9818 - val_loss: 0.0576\n",
            "Epoch 2/20\n",
            "\u001b[1m1039/1875\u001b[0m \u001b[32m━━━━━━━━━━━\u001b[0m\u001b[37m━━━━━━━━━\u001b[0m \u001b[1m23s\u001b[0m 28ms/step - accuracy: 0.9857 - loss: 0.0470"
          ]
        }
      ]
    },
    {
      "cell_type": "code",
      "source": [
        "\n",
        "\n",
        "# Plot training & validation accuracy values\n",
        "plt.plot(history.history['accuracy'])\n",
        "plt.plot(history.history['val_accuracy'])\n",
        "plt.title('Model accuracy')\n",
        "plt.ylabel('Accuracy')\n",
        "plt.xlabel('Epoch')\n",
        "plt.legend(['Train', 'Test'], loc='upper left')\n",
        "plt.show()\n",
        "\n",
        "# Plot training & validation loss values\n",
        "plt.plot(history.history['loss'])\n",
        "plt.plot(history.history['val_loss'])\n",
        "plt.title('Model loss')\n",
        "plt.ylabel('Loss')\n",
        "plt.xlabel('Epoch')\n",
        "plt.legend(['Train', 'Test'], loc='upper right')\n",
        "plt.show()\n",
        "\n"
      ],
      "metadata": {
        "id": "aEFf7oYPZmZ2"
      },
      "execution_count": null,
      "outputs": []
    },
    {
      "cell_type": "code",
      "source": [
        "\n",
        "\n",
        "y_true=test_labels\n",
        "#y_pred=model.predict_classes(test_images)\n",
        "y_pred= np.argmax(model.predict(test_images), axis=-1)\n",
        "\n",
        "\n",
        "\n",
        "\n",
        "y_true=test_labels\n",
        "#y_pred=model.predict_classes(test_images)\n",
        "y_pred= np.argmax(model.predict(test_images), axis=-1)\n",
        "\n",
        "\n"
      ],
      "metadata": {
        "id": "9D1Ea-JwZnXl"
      },
      "execution_count": null,
      "outputs": []
    },
    {
      "cell_type": "code",
      "source": [
        "\n",
        "\n",
        "classes=[0,1,2,3,4,5,6,7,8,9]\n",
        "\n"
      ],
      "metadata": {
        "id": "WTUUCyiAZonA"
      },
      "execution_count": null,
      "outputs": []
    },
    {
      "cell_type": "code",
      "source": [
        "\n",
        "\n",
        "con_mat = tf.math.confusion_matrix(labels=y_true, predictions=y_pred).numpy()\n",
        "con_mat_norm = np.around(con_mat.astype('float') / con_mat.sum(axis=1)[:, np.newaxis], decimals=2)\n",
        "\n",
        "con_mat_df = pd.DataFrame(con_mat_norm,\n",
        "                     index = classes,\n",
        "                     columns = classes)\n",
        "\n",
        "figure = plt.figure(figsize=(8, 8))\n",
        "sns.heatmap(con_mat_df, annot=True,cmap=plt.cm.Blues)\n",
        "plt.tight_layout()\n",
        "plt.title(\"Confusion Matrix\")\n",
        "plt.ylabel('True label')\n",
        "plt.xlabel('Predicted label')\n",
        "plt.show()\n",
        "\n"
      ],
      "metadata": {
        "id": "Nt1gEqfRZpTi"
      },
      "execution_count": null,
      "outputs": []
    },
    {
      "cell_type": "code",
      "source": [
        "\n",
        "\n",
        "model1 = models.Sequential()\n",
        "model1.add(layers.Conv2D(32, (3, 3), activation='relu', input_shape=(28, 28, 1)))\n",
        "model1.add(layers.MaxPooling2D((2, 2)))\n",
        "model1.add(layers.Conv2D(64, (3, 3), activation='relu'))\n",
        "model1.add(layers.MaxPooling2D((2, 2)))\n",
        "model1.add(layers.Conv2D(64, (3, 3), activation='relu'))\n",
        "\n",
        "model1.add(layers.Flatten())\n",
        "model1.add(layers.Dense(64, activation='relu'))\n",
        "model1.add(layers.Dense(10))\n",
        "\n",
        "model1.compile(\n",
        "    optimizer='adam',\n",
        "    loss='sparse_categorical_crossentropy',\n",
        "    metrics=['accuracy']\n",
        "\n",
        ")\n",
        "\n",
        "model.summary()\n",
        "\n"
      ],
      "metadata": {
        "id": "kO2elb3IZqCa"
      },
      "execution_count": null,
      "outputs": []
    },
    {
      "cell_type": "code",
      "source": [
        "\n",
        "\n",
        "file_writer = tf.summary.create_file_writer(logdir + '/cm')\n",
        "\n",
        "def log_confusion_matrix(epoch, logs):\n",
        "  # Use the model to predict the values from the validation dataset.\n",
        "  test_pred = np.argmax(model1.predict(test_images), axis=-1)\n",
        "\n",
        "  con_mat = tf.math.confusion_matrix(labels=y_true, predictions=y_pred).numpy()\n",
        "  con_mat_norm = np.around(con_mat.astype('float') / con_mat.sum(axis=1)[:, np.newaxis], decimals=2)\n",
        "\n",
        "  con_mat_df = pd.DataFrame(con_mat_norm,\n",
        "                     index = classes,\n",
        "                     columns = classes)\n",
        "\n",
        "  figure = plt.figure(figsize=(8, 8))\n",
        "  sns.heatmap(con_mat_df, annot=True,cmap=plt.cm.Blues)\n",
        "  plt.tight_layout()\n",
        "  plt.ylabel('True label')\n",
        "  plt.xlabel('Predicted label')\n",
        "\n",
        "  buf = io.BytesIO()\n",
        "  plt.savefig(buf, format='png')\n",
        "\n",
        "  plt.close(figure)\n",
        "  buf.seek(0)\n",
        "  image = tf.image.decode_png(buf.getvalue(), channels=4)\n",
        "\n",
        "  image = tf.expand_dims(image, 0)\n",
        "\n",
        "  # Log the confusion matrix as an image summary.\n",
        "  with file_writer.as_default():\n",
        "    tf.summary.image(\"Confusion Matrix\", image, step=epoch)\n",
        "\n",
        "\n",
        "logdir='logs/images'\n",
        "\n",
        "tensorboard_callback = tf.keras.callbacks.TensorBoard(log_dir=logdir)\n",
        "\n",
        "cm_callback = keras.callbacks.LambdaCallback(on_epoch_end=log_confusion_matrix)\n",
        "\n"
      ],
      "metadata": {
        "id": "0a3Ff2oaZrM5"
      },
      "execution_count": null,
      "outputs": []
    },
    {
      "cell_type": "code",
      "source": [
        "\n",
        "\n",
        "# Acurácia\n",
        "acuracia = 100*accuracy_score(y_true, y_pred)\n",
        "print('Acurácia: {:.2f}%' .format(acuracia))\n",
        "\n"
      ],
      "metadata": {
        "id": "EP91OjAMZr7x"
      },
      "execution_count": null,
      "outputs": []
    },
    {
      "cell_type": "code",
      "source": [
        "\n",
        "\n",
        "# F1-Score\n",
        "f1_macro = 100*f1_score(y_true, y_pred, average='macro')\n",
        "f1_micro = 100*f1_score(y_true, y_pred, average='micro')\n",
        "f1_weighted = 100*f1_score(y_true, y_pred, average='weighted')\n",
        "print('F-Score: {:.4f}%' .format(f1_macro))\n",
        "print('F-Score: {:.4f}%' .format(f1_micro))\n",
        "print('F-Score: {:.4f}%' .format(f1_weighted))\n",
        "\n"
      ],
      "metadata": {
        "id": "YmIq41tWZsv2"
      },
      "execution_count": null,
      "outputs": []
    },
    {
      "cell_type": "code",
      "source": [
        "\n",
        "\n",
        "# Precisão\n",
        "\n",
        "precision_macro = 100*precision_score(y_true, y_pred, average='macro')\n",
        "precision_micro = 100*precision_score(y_true, y_pred, average='micro')\n",
        "precision_weighted = 100*precision_score(y_true, y_pred, average='weighted')\n",
        "print('Precisão Macro:    {:.3f}%' .format(precision_macro ))\n",
        "print('Precisão Micro:    {:.3f}%' .format(precision_micro))\n",
        "print('Precisão Weighted: {:.3f}%' .format(precision_weighted))\n",
        "\n"
      ],
      "metadata": {
        "id": "arLrO7fkZuRx"
      },
      "execution_count": null,
      "outputs": []
    },
    {
      "cell_type": "code",
      "source": [
        "\n",
        "\n",
        "\n",
        "Sensitivity_recall_macro = 100*metrics.recall_score(y_true, y_pred, average='macro')\n",
        "Sensitivity_recall_micro = 100*metrics.recall_score(y_true, y_pred, average='micro')\n",
        "Sensitivity_recall_weighted = 100*metrics.recall_score(y_true, y_pred, average='weighted')\n",
        "\n",
        "\n",
        "print('Sensibilidade Macro:    {:.4f}%' .format(Sensitivity_recall_macro))\n",
        "print('Sensibilidade Micro:    {:.4f}%' .format(Sensitivity_recall_micro))\n",
        "print('Sensibilidade Weighted: {:.4f}%' .format(Sensitivity_recall_weighted))\n",
        "\n",
        "\n",
        "\n"
      ],
      "metadata": {
        "id": "UHNva2mKZvBK"
      },
      "execution_count": null,
      "outputs": []
    },
    {
      "cell_type": "code",
      "source": [
        "\n",
        "\n",
        "\n",
        "Specificity_macro = 100*metrics.recall_score(y_pred, y_true, average='macro', pos_label=1)\n",
        "Specificity_micro = 100*metrics.recall_score(y_pred, y_true, average='micro', pos_label=1)\n",
        "Specificity_weighted = 100*metrics.recall_score(y_pred, y_true, average='weighted', pos_label=1)\n",
        "\n",
        "\n",
        "print('Especificidade Macro    {:.4f}%' .format(Specificity_macro))\n",
        "print('Especificidade Micro    {:.4f}%' .format(Specificity_micro))\n",
        "print('Especificidade Weighted {:.4f}%' .format(Specificity_weighted))\n",
        "\n",
        "\n"
      ],
      "metadata": {
        "id": "6J3DrJk_Zv3V"
      },
      "execution_count": null,
      "outputs": []
    },
    {
      "cell_type": "code",
      "source": [
        "\n",
        "\n",
        "print(classification_report(y_true, y_pred))\n",
        "\n"
      ],
      "metadata": {
        "id": "Eup8JG20ZwmN"
      },
      "execution_count": null,
      "outputs": []
    },
    {
      "cell_type": "code",
      "source": [
        "\n",
        "\n",
        "# Start TensorBoard.\n",
        "%tensorboard --logdir logs/images\n",
        "\n"
      ],
      "metadata": {
        "id": "M5EJyO1uZxUT"
      },
      "execution_count": null,
      "outputs": []
    },
    {
      "cell_type": "code",
      "source": [],
      "metadata": {
        "id": "AEua4gFBZyJL"
      },
      "execution_count": null,
      "outputs": []
    }
  ]
}